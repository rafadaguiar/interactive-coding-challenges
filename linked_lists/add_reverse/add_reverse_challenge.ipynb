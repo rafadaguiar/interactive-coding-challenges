{
 "cells": [
  {
   "cell_type": "markdown",
   "metadata": {},
   "source": [
    "<small><i>This notebook was prepared by [Donne Martin](http://donnemartin.com). Source and license info is on [GitHub](https://github.com/donnemartin/interactive-coding-challenges).</i></small>"
   ]
  },
  {
   "cell_type": "markdown",
   "metadata": {},
   "source": [
    "# Challenge Notebook"
   ]
  },
  {
   "cell_type": "markdown",
   "metadata": {},
   "source": [
    "## Problem: Add two numbers whose digits are stored in a linked list in reverse order.\n",
    "\n",
    "* [Constraints](#Constraints)\n",
    "* [Test Cases](#Test-Cases)\n",
    "* [Algorithm](#Algorithm)\n",
    "* [Code](#Code)\n",
    "* [Unit Test](#Unit-Test)\n",
    "* [Solution Notebook](#Solution-Notebook)"
   ]
  },
  {
   "cell_type": "markdown",
   "metadata": {},
   "source": [
    "## Constraints\n",
    "\n",
    "* Do you expect the return to be in reverse order too?\n",
    "    * Yes\n",
    "* What if one of the inputs is None?\n",
    "    * Return None for an invalid operation\n",
    "* How large are these numbers--can they fit in memory?\n",
    "    * Yes\n",
    "* Can we assume we already have a linked list class that can be used for this problem?\n",
    "    * Yes"
   ]
  },
  {
   "cell_type": "markdown",
   "metadata": {},
   "source": [
    "## Test Cases\n",
    "\n",
    "* Empty list(s) -> None\n",
    "* Add values of different lengths\n",
    "    * Input 1: 6->5->None\n",
    "    * Input 2: 9->8->7\n",
    "    * Result: 5->4->8\n",
    "* Add values of same lengths\n",
    "    * Exercised from values of different lengths\n",
    "    * Done here for completeness"
   ]
  },
  {
   "cell_type": "markdown",
   "metadata": {},
   "source": [
    "## Algorithm\n",
    "\n",
    "Refer to the [Solution Notebook](http://nbviewer.ipython.org/github/donnemartin/interactive-coding-challenges/blob/master/linked_lists/add_reverse/add_reverse_solution.ipynb).  If you are stuck and need a hint, the solution notebook's algorithm discussion might be a good place to start."
   ]
  },
  {
   "cell_type": "markdown",
   "metadata": {},
   "source": [
    "## Code"
   ]
  },
  {
   "cell_type": "code",
   "execution_count": null,
   "metadata": {
    "collapsed": true
   },
   "outputs": [],
   "source": [
    "# %load ../linked_list/linked_list.py\n",
    "class Node(object):\n",
    "\n",
    "    def __init__(self, data, next_node=None):\n",
    "        self.next = next_node\n",
    "        self.data = data\n",
    "\n",
    "    def __str__(self):\n",
    "        return self.data\n",
    "\n",
    "\n",
    "class LinkedList(object):\n",
    "\n",
    "    def __init__(self, head=None):\n",
    "        self.head = head\n",
    "\n",
    "    def __len__(self):\n",
    "        curr = self.head\n",
    "        counter = 0\n",
    "        while curr is not None:\n",
    "            counter += 1\n",
    "            curr = curr.next\n",
    "        return counter\n",
    "\n",
    "    def insert_to_front(self, data):\n",
    "        if data is None:\n",
    "            return\n",
    "        node = Node(data)\n",
    "        if self.head is None:\n",
    "            self.head = node\n",
    "        else:\n",
    "            node.next = self.head\n",
    "            self.head = node\n",
    "        return node\n",
    "\n",
    "    def append(self, data, next_node=None):\n",
    "        if data is None:\n",
    "            return\n",
    "        node = Node(data, next_node)\n",
    "        if self.head is None:\n",
    "            self.head = node\n",
    "        else:\n",
    "            curr_node = self.head\n",
    "            while curr_node.next is not None:\n",
    "                curr_node = curr_node.next\n",
    "            curr_node.next = node\n",
    "        return node\n",
    "\n",
    "    def find(self, data):\n",
    "        if data is None:\n",
    "            return\n",
    "        if self.head is None:\n",
    "            return\n",
    "        curr_node = self.head\n",
    "        while curr_node is not None:\n",
    "            if curr_node.data == data:\n",
    "                return curr_node\n",
    "            else:\n",
    "                curr_node = curr_node.next\n",
    "        return\n",
    "\n",
    "    def delete(self, data):\n",
    "        if data is None:\n",
    "            return\n",
    "        if self.head is None:\n",
    "            return\n",
    "        prev_node = self.head\n",
    "        curr_node = prev_node.next\n",
    "        while curr_node is not None:\n",
    "            if curr_node.data == data:\n",
    "                prev_node.next = curr_node.next\n",
    "                return\n",
    "            else:\n",
    "                prev_node = curr_node\n",
    "                curr_node = curr_node.next\n",
    "\n",
    "    def print_list(self):\n",
    "        curr_node = self.head\n",
    "        while curr_node is not None:\n",
    "            print(curr_node.data)\n",
    "            curr_node = curr_node.next\n",
    "\n",
    "    def get_all_data(self):\n",
    "        data = []\n",
    "        curr_node = self.head\n",
    "        while curr_node is not None:\n",
    "            data.append(curr_node.data)\n",
    "            curr_node = curr_node.next\n",
    "        return data"
   ]
  },
  {
   "cell_type": "code",
   "execution_count": 44,
   "metadata": {
    "collapsed": false
   },
   "outputs": [],
   "source": [
    "\"\"\"\n",
    "We want to do this only passing through each list once.\n",
    "To do so we need to create a new list to hold the sumations \n",
    "of each digit (it isn't possible to store in one of the existents;\n",
    "they might overflow and there's no way to add nodes to them without\n",
    "doing one extra pass).\n",
    "We do the summation on each digit from left to right and carry its\n",
    "carryout in the same way.\n",
    "Complexity: Time O(n), Space O(n)\n",
    "Dificulty: #Easy\n",
    "\"\"\"\n",
    "class MyLinkedList(LinkedList):\n",
    "\n",
    "    def add_reverse(self, first_list, second_list):\n",
    "        if first_list is None or second_list is None:\n",
    "            return\n",
    "        fst, snd = first_list.head, second_list.head\n",
    "        ans = LinkedList()\n",
    "        carryout = 0\n",
    "        # Only carryout == 1 being True means that the new number\n",
    "        # has 1 extra digit\n",
    "        while fst is not None or snd is not None or carryout == 1:\n",
    "            value = carryout\n",
    "            value += fst.data if fst is not None else 0\n",
    "            value += snd.data if snd is not None else 0\n",
    "            \n",
    "            carryout = 1 if value >= 10 else 0\n",
    "            ans.append(value % 10)\n",
    "            \n",
    "            fst = fst.next if fst is not None else None\n",
    "            snd = snd.next if snd is not None else None\n",
    "        return ans\n",
    "         \n",
    "#     def recursive_add_reverse(self, first_list, second_list):\n",
    "        "
   ]
  },
  {
   "cell_type": "markdown",
   "metadata": {},
   "source": [
    "## Unit Test"
   ]
  },
  {
   "cell_type": "markdown",
   "metadata": {},
   "source": [
    "\n",
    "\n",
    "**The following unit test is expected to fail until you solve the challenge.**"
   ]
  },
  {
   "cell_type": "code",
   "execution_count": 45,
   "metadata": {
    "collapsed": false
   },
   "outputs": [
    {
     "name": "stdout",
     "output_type": "stream",
     "text": [
      "Test: Empty list(s)\n",
      "Test: Add values of different lengths\n",
      "Test: Add values of same lengths\n",
      "Success: test_add_reverse\n"
     ]
    }
   ],
   "source": [
    "# %load test_add_reverse.py\n",
    "from nose.tools import assert_equal\n",
    "\n",
    "\n",
    "class TestAddReverse(object):\n",
    "\n",
    "    def test_add_reverse(self):\n",
    "        print('Test: Empty list(s)')\n",
    "        assert_equal(MyLinkedList().add_reverse(None, None), None)\n",
    "        assert_equal(MyLinkedList().add_reverse(Node(5), None), None)\n",
    "        assert_equal(MyLinkedList().add_reverse(None, Node(10)), None)\n",
    "\n",
    "        print('Test: Add values of different lengths')\n",
    "        # Input 1: 6->5->None\n",
    "        # Input 2: 9->8->7\n",
    "        # Result: 5->4->8\n",
    "        first_list = MyLinkedList(Node(6))\n",
    "        first_list.append(5)\n",
    "        second_list = MyLinkedList(Node(9))\n",
    "        second_list.append(8)\n",
    "        second_list.append(7)\n",
    "        result = MyLinkedList().add_reverse(first_list, second_list)\n",
    "        assert_equal(result.get_all_data(), [5, 4, 8])\n",
    "\n",
    "        print('Test: Add values of same lengths')\n",
    "        # Input 1: 6->5->4\n",
    "        # Input 2: 9->8->7\n",
    "        # Result: 5->4->2->1\n",
    "        first_head = Node(6)\n",
    "        first_list = MyLinkedList(first_head)\n",
    "        first_list.append(5)\n",
    "        first_list.append(4)\n",
    "        second_head = Node(9)\n",
    "        second_list = MyLinkedList(second_head)\n",
    "        second_list.append(8)\n",
    "        second_list.append(7)\n",
    "        result = MyLinkedList().add_reverse(first_list, second_list)\n",
    "        assert_equal(result.get_all_data(), [5, 4, 2, 1])\n",
    "\n",
    "        print('Success: test_add_reverse')\n",
    "\n",
    "\n",
    "def main():\n",
    "    test = TestAddReverse()\n",
    "    test.test_add_reverse()\n",
    "\n",
    "\n",
    "if __name__ == '__main__':\n",
    "    main()"
   ]
  },
  {
   "cell_type": "markdown",
   "metadata": {},
   "source": [
    "## Solution Notebook\n",
    "\n",
    "Review the [Solution Notebook](http://nbviewer.ipython.org/github/donnemartin/interactive-coding-challenges/blob/master/linked_lists/add_reverse/add_reverse_solution.ipynb) for a discussion on algorithms and code solutions."
   ]
  }
 ],
 "metadata": {
  "kernelspec": {
   "display_name": "Python 2",
   "language": "python",
   "name": "python2"
  },
  "language_info": {
   "codemirror_mode": {
    "name": "ipython",
    "version": 2
   },
   "file_extension": ".py",
   "mimetype": "text/x-python",
   "name": "python",
   "nbconvert_exporter": "python",
   "pygments_lexer": "ipython2",
   "version": "2.7.10"
  }
 },
 "nbformat": 4,
 "nbformat_minor": 0
}
