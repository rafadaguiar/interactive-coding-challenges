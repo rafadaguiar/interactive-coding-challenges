{
 "cells": [
  {
   "cell_type": "markdown",
   "metadata": {},
   "source": [
    "<small><i>This notebook was prepared by [Donne Martin](http://donnemartin.com). Source and license info is on [GitHub](https://github.com/donnemartin/interactive-coding-challenges).</i></small>"
   ]
  },
  {
   "cell_type": "markdown",
   "metadata": {},
   "source": [
    "# Challenge Notebook"
   ]
  },
  {
   "cell_type": "markdown",
   "metadata": {},
   "source": [
    "## Problem: Find the start of a linked list loop.\n",
    "\n",
    "* [Constraints](#Constraints)\n",
    "* [Test Cases](#Test-Cases)\n",
    "* [Algorithm](#Algorithm)\n",
    "* [Code](#Code)\n",
    "* [Unit Test](#Unit-Test)\n",
    "* [Solution Notebook](#Solution-Notebook)"
   ]
  },
  {
   "cell_type": "markdown",
   "metadata": {},
   "source": [
    "## Constraints\n",
    "\n",
    "* Is this a singly linked list?\n",
    "    * Yes\n",
    "* Can we assume we are always passed a circular linked list?\n",
    "    * No\n",
    "* Can we assume we already have a linked list class that can be used for this problem?\n",
    "    * Yes"
   ]
  },
  {
   "cell_type": "markdown",
   "metadata": {},
   "source": [
    "## Test Cases\n",
    "\n",
    "* Empty list -> None\n",
    "* Not a circular linked list -> None\n",
    "    * One element\n",
    "    * Two or more elements\n",
    "* Circular linked list general case"
   ]
  },
  {
   "cell_type": "markdown",
   "metadata": {},
   "source": [
    "## Algorithm\n",
    "\n",
    "Refer to the [Solution Notebook](http://nbviewer.ipython.org/github/donnemartin/interactive-coding-challenges/blob/master/linked_lists/find_loop_start/find_loop_start_solution.ipynb).  If you are stuck and need a hint, the solution notebook's algorithm discussion might be a good place to start."
   ]
  },
  {
   "cell_type": "markdown",
   "metadata": {},
   "source": [
    "## Code"
   ]
  },
  {
   "cell_type": "code",
   "execution_count": null,
   "metadata": {
    "collapsed": true
   },
   "outputs": [],
   "source": [
    "# %load ../linked_list/linked_list.py\n",
    "class Node(object):\n",
    "\n",
    "    def __init__(self, data, next_node=None):\n",
    "        self.next = next_node\n",
    "        self.data = data\n",
    "\n",
    "    def __str__(self):\n",
    "        return self.data\n",
    "\n",
    "\n",
    "class LinkedList(object):\n",
    "\n",
    "    def __init__(self, head=None):\n",
    "        self.head = head\n",
    "\n",
    "    def __len__(self):\n",
    "        curr = self.head\n",
    "        counter = 0\n",
    "        while curr is not None:\n",
    "            counter += 1\n",
    "            curr = curr.next\n",
    "        return counter\n",
    "\n",
    "    def insert_to_front(self, data):\n",
    "        if data is None:\n",
    "            return\n",
    "        node = Node(data)\n",
    "        if self.head is None:\n",
    "            self.head = node\n",
    "        else:\n",
    "            node.next = self.head\n",
    "            self.head = node\n",
    "        return node\n",
    "\n",
    "    def append(self, data, next_node=None):\n",
    "        if data is None:\n",
    "            return\n",
    "        node = Node(data, next_node)\n",
    "        if self.head is None:\n",
    "            self.head = node\n",
    "        else:\n",
    "            curr_node = self.head\n",
    "            while curr_node.next is not None:\n",
    "                curr_node = curr_node.next\n",
    "            curr_node.next = node\n",
    "        return node\n",
    "\n",
    "    def find(self, data):\n",
    "        if data is None:\n",
    "            return\n",
    "        if self.head is None:\n",
    "            return\n",
    "        curr_node = self.head\n",
    "        while curr_node is not None:\n",
    "            if curr_node.data == data:\n",
    "                return curr_node\n",
    "            else:\n",
    "                curr_node = curr_node.next\n",
    "        return\n",
    "\n",
    "    def delete(self, data):\n",
    "        if data is None:\n",
    "            return\n",
    "        if self.head is None:\n",
    "            return\n",
    "        prev_node = self.head\n",
    "        curr_node = prev_node.next\n",
    "        while curr_node is not None:\n",
    "            if curr_node.data == data:\n",
    "                prev_node.next = curr_node.next\n",
    "                return\n",
    "            else:\n",
    "                prev_node = curr_node\n",
    "                curr_node = curr_node.next\n",
    "\n",
    "    def print_list(self):\n",
    "        curr_node = self.head\n",
    "        while curr_node is not None:\n",
    "            print(curr_node.data)\n",
    "            curr_node = curr_node.next\n",
    "\n",
    "    def get_all_data(self):\n",
    "        data = []\n",
    "        curr_node = self.head\n",
    "        while curr_node is not None:\n",
    "            data.append(curr_node.data)\n",
    "            curr_node = curr_node.next\n",
    "        return data"
   ]
  },
  {
   "cell_type": "code",
   "execution_count": 20,
   "metadata": {
    "collapsed": false
   },
   "outputs": [],
   "source": [
    "\"\"\"\n",
    "- Is easy to do this with Space O(n) [just as we do on arrays],\n",
    "  using an set to keep track of the references as we go.\n",
    "  The challenge is to do it without extra data structures.\n",
    "- Complexity: Time O(n), Space O(1)\n",
    "- Difficulty: #Medium\n",
    "\"\"\"\n",
    "\n",
    "\n",
    "class MyLinkedList(LinkedList):\n",
    "    def find_loop_start(self):\n",
    "        # Space O(1)\n",
    "        # Time O(n)\n",
    "        if self.head is None or self.head.next is None:\n",
    "            return\n",
    "        # Avoids slow == fast at start\n",
    "        slow = self.head.next\n",
    "        fast = self.head.next.next\n",
    "        \n",
    "        # Identifies where slow and fast meet for the first time\n",
    "        while slow != fast:\n",
    "            if fast is None or fast.next is None:\n",
    "                # There are no cycles\n",
    "                return\n",
    "            slow = slow.next\n",
    "            fast = fast.next.next\n",
    "        \n",
    "        # [Important] They will meet each other after a number\n",
    "        # of steps equal to the size of the loop. Hence, we give \n",
    "        # fast a head-start of that size (by keeping it on the meeting\n",
    "        # position) and set slow to the head to keep a \"size of loop\"\n",
    "        # distance between them.\n",
    "        slow = self.head\n",
    "\n",
    "#         # Puts slow one element ahead of fast\n",
    "#         size_of_loop = 1\n",
    "#         slow = slow.next\n",
    "#         # Counts the size of the loop\n",
    "#         while slow != fast:\n",
    "#             size_of_loop += 1\n",
    "#             slow = slow.next\n",
    "#         print slow.data, fast.data\n",
    "#         slow = fast = self.head\n",
    "        \n",
    "#         # Gives slow a head-start of the size of the loop\n",
    "#         # in order to keep this distance from fast\n",
    "#         while size_of_loop > 0:\n",
    "#             slow = slow.next\n",
    "#             size_of_loop -= 1\n",
    "        \n",
    "        # When they meet again, it will be at the start of the loop\n",
    "        while slow != fast:\n",
    "            slow = slow.next\n",
    "            fast = fast.next\n",
    "        return slow.data\n",
    "\n",
    "    def find_loop_start_with_set(self):\n",
    "        # Space O(n)\n",
    "        s = set()\n",
    "        current = self.head\n",
    "        while current is not None:\n",
    "            if current in s:\n",
    "                return current.data\n",
    "            else:\n",
    "                s.add(current)\n",
    "            current = current.next"
   ]
  },
  {
   "cell_type": "markdown",
   "metadata": {},
   "source": [
    "## Unit Test"
   ]
  },
  {
   "cell_type": "markdown",
   "metadata": {},
   "source": [
    "\n",
    "\n",
    "**The following unit test is expected to fail until you solve the challenge.**"
   ]
  },
  {
   "cell_type": "code",
   "execution_count": 21,
   "metadata": {
    "collapsed": false
   },
   "outputs": [
    {
     "name": "stdout",
     "output_type": "stream",
     "text": [
      "Test: Empty list\n",
      "Test: Not a circular linked list: One element\n",
      "Test: Not a circular linked list: Two elements\n",
      "Test: Not a circular linked list: Three or more elements\n",
      "Test: General case: Circular linked list\n",
      "8 8\n",
      "Success: test_find_loop_start\n"
     ]
    }
   ],
   "source": [
    "# %load test_find_loop_start.py\n",
    "from nose.tools import assert_equal\n",
    "\n",
    "\n",
    "class TestFindLoopStart(object):\n",
    "\n",
    "    def test_find_loop_start(self):\n",
    "        print('Test: Empty list')\n",
    "        linked_list = MyLinkedList()\n",
    "        assert_equal(linked_list.find_loop_start(), None)\n",
    "\n",
    "        print('Test: Not a circular linked list: One element')\n",
    "        head = Node(1)\n",
    "        linked_list = MyLinkedList(head)\n",
    "        assert_equal(linked_list.find_loop_start(), None)\n",
    "\n",
    "        print('Test: Not a circular linked list: Two elements')\n",
    "        linked_list.append(2)\n",
    "        assert_equal(linked_list.find_loop_start(), None)\n",
    "\n",
    "        print('Test: Not a circular linked list: Three or more elements')\n",
    "        linked_list.append(3)\n",
    "        assert_equal(linked_list.find_loop_start(), None)\n",
    "\n",
    "        print('Test: General case: Circular linked list')\n",
    "        node10 = Node(10)\n",
    "        node9 = Node(9, node10)\n",
    "        node8 = Node(8, node9)\n",
    "        node7 = Node(7, node8)\n",
    "        node6 = Node(6, node7)\n",
    "        node5 = Node(5, node6)\n",
    "        node4 = Node(4, node5)\n",
    "        node3 = Node(3, node4)\n",
    "        node2 = Node(2, node3)\n",
    "        node1 = Node(1, node2)\n",
    "        node0 = Node(0, node1)\n",
    "        node10.next = node3\n",
    "        linked_list = MyLinkedList(node0)\n",
    "        assert_equal(linked_list.find_loop_start(), 3)\n",
    "\n",
    "        print('Success: test_find_loop_start')\n",
    "\n",
    "\n",
    "def main():\n",
    "    test = TestFindLoopStart()\n",
    "    test.test_find_loop_start()\n",
    "\n",
    "\n",
    "if __name__ == '__main__':\n",
    "    main()"
   ]
  },
  {
   "cell_type": "markdown",
   "metadata": {},
   "source": [
    "## Solution Notebook\n",
    "\n",
    "Review the [Solution Notebook](http://nbviewer.ipython.org/github/donnemartin/interactive-coding-challenges/blob/master/linked_lists/find_loop_start/find_loop_start_solution.ipynb) for a discussion on algorithms and code solutions."
   ]
  }
 ],
 "metadata": {
  "kernelspec": {
   "display_name": "Python 2",
   "language": "python",
   "name": "python2"
  },
  "language_info": {
   "codemirror_mode": {
    "name": "ipython",
    "version": 2
   },
   "file_extension": ".py",
   "mimetype": "text/x-python",
   "name": "python",
   "nbconvert_exporter": "python",
   "pygments_lexer": "ipython2",
   "version": "2.7.10"
  }
 },
 "nbformat": 4,
 "nbformat_minor": 0
}
