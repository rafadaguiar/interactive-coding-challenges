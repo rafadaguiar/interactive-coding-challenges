{
 "cells": [
  {
   "cell_type": "markdown",
   "metadata": {},
   "source": [
    "<small><i>This notebook was prepared by [Donne Martin](http://donnemartin.com). Source and license info is on [GitHub](https://github.com/donnemartin/interactive-coding-challenges).</i></small>"
   ]
  },
  {
   "cell_type": "markdown",
   "metadata": {},
   "source": [
    "# Challenge Notebook"
   ]
  },
  {
   "cell_type": "markdown",
   "metadata": {},
   "source": [
    "## Problem: Implement the [Towers of Hanoi](http://en.wikipedia.org/wiki/Tower_of_Hanoi) with 3 towers and N disks.\n",
    "\n",
    "* [Constraints](#Constraints)\n",
    "* [Test Cases](#Test-Cases)\n",
    "* [Algorithm](#Algorithm)\n",
    "* [Code](#Code)\n",
    "* [Unit Test](#Unit-Test)\n",
    "* [Solution Notebook](#Solution-Notebook)"
   ]
  },
  {
   "cell_type": "markdown",
   "metadata": {},
   "source": [
    "## Constraints\n",
    "\n",
    "* Can we assume we already have a stack class that can be used for this problem?\n",
    "    * Yes"
   ]
  },
  {
   "cell_type": "markdown",
   "metadata": {},
   "source": [
    "## Test Cases\n",
    "\n",
    "* None tower(s)\n",
    "* 0 disks\n",
    "* 1 disk\n",
    "* 2 or more disks"
   ]
  },
  {
   "cell_type": "markdown",
   "metadata": {},
   "source": [
    "## Algorithm\n",
    "\n",
    "Refer to the [Solution Notebook](http://nbviewer.ipython.org/github/donnemartin/interactive-coding-challenges/blob/master/stacks_queues/hanoi/hanoi_solution.ipynb).  If you are stuck and need a hint, the solution notebook's algorithm discussion might be a good place to start."
   ]
  },
  {
   "cell_type": "markdown",
   "metadata": {},
   "source": [
    "## Code"
   ]
  },
  {
   "cell_type": "code",
   "execution_count": null,
   "metadata": {
    "collapsed": false
   },
   "outputs": [],
   "source": [
    "# %load ../stack/stack.py\n",
    "class Node(object):\n",
    "\n",
    "    def __init__(self, data):\n",
    "        self.data = data\n",
    "        self.next = None\n",
    "\n",
    "\n",
    "class Stack(object):\n",
    "\n",
    "    def __init__(self, top=None):\n",
    "        self.top = top\n",
    "\n",
    "    def push(self, data):\n",
    "        node = Node(data)\n",
    "        node.next = self.top\n",
    "        self.top = node\n",
    "\n",
    "    def pop(self):\n",
    "        if self.top is not None:\n",
    "            data = self.top.data\n",
    "            self.top = self.top.next\n",
    "            return data\n",
    "        return None\n",
    "\n",
    "    def peek(self):\n",
    "        if self.top is not None:\n",
    "            return self.top.data\n",
    "        return None\n",
    "\n",
    "    def is_empty(self):\n",
    "        return self.peek() is None"
   ]
  },
  {
   "cell_type": "code",
   "execution_count": 4,
   "metadata": {
    "collapsed": false
   },
   "outputs": [],
   "source": [
    "\"\"\"Notes:\n",
    "- Dificulty: Hard\n",
    "- Tags: #Recursion\n",
    "\"\"\"\n",
    "\n",
    "def hanoi(num_disks, src, dest, buff):\n",
    "        if src is None or dest is None or buff is None:\n",
    "            return\n",
    "        if num_disks > 0:\n",
    "            # A -> B\n",
    "            hanoi(num_disks-1, src, buff, dest)\n",
    "            # A -> C\n",
    "            dest.push(src.pop())\n",
    "            # B -> C\n",
    "            hanoi(num_disks-1, buff, dest, src)"
   ]
  },
  {
   "cell_type": "markdown",
   "metadata": {},
   "source": [
    "## Unit Test\n",
    "\n",
    "\n",
    "\n",
    "**The following unit test is expected to fail until you solve the challenge.**"
   ]
  },
  {
   "cell_type": "code",
   "execution_count": 5,
   "metadata": {
    "collapsed": false
   },
   "outputs": [
    {
     "name": "stdout",
     "output_type": "stream",
     "text": [
      "Test: None towers\n",
      "Test: 0 disks\n",
      "Test: 1 disk\n",
      "Test: 2 or more disks\n",
      "Success: test_hanoi\n"
     ]
    }
   ],
   "source": [
    "# %load test_hanoi.py\n",
    "from nose.tools import assert_equal\n",
    "\n",
    "\n",
    "class TestHanoi(object):\n",
    "\n",
    "    def test_hanoi(self):\n",
    "        num_disks = 3\n",
    "        src = Stack()\n",
    "        buff = Stack()\n",
    "        dest = Stack()\n",
    "\n",
    "        print('Test: None towers')\n",
    "        hanoi(num_disks, None, None, None)\n",
    "\n",
    "        print('Test: 0 disks')\n",
    "        hanoi(num_disks, src, dest, buff)\n",
    "        assert_equal(dest.pop(), None)\n",
    "\n",
    "        print('Test: 1 disk')\n",
    "        src.push(5)\n",
    "        hanoi(num_disks, src, dest, buff)\n",
    "        assert_equal(dest.pop(), 5)\n",
    "\n",
    "        print('Test: 2 or more disks')\n",
    "        for i in range(num_disks, -1, -1):\n",
    "            src.push(i)\n",
    "        hanoi(num_disks, src, dest, buff)\n",
    "        for i in range(0, num_disks):\n",
    "            assert_equal(dest.pop(), i)\n",
    "\n",
    "        print('Success: test_hanoi')\n",
    "\n",
    "\n",
    "def main():\n",
    "    test = TestHanoi()\n",
    "    test.test_hanoi()\n",
    "\n",
    "\n",
    "if __name__ == '__main__':\n",
    "    main()"
   ]
  },
  {
   "cell_type": "markdown",
   "metadata": {},
   "source": [
    "## Solution Notebook\n",
    "\n",
    "Review the [Solution Notebook](http://nbviewer.ipython.org/github/donnemartin/interactive-coding-challenges/blob/master/stacks_queues/hanoi/hanoi_solution.ipynb) for a discussion on algorithms and code solutions."
   ]
  }
 ],
 "metadata": {
  "kernelspec": {
   "display_name": "Python 2",
   "language": "python",
   "name": "python2"
  },
  "language_info": {
   "codemirror_mode": {
    "name": "ipython",
    "version": 2
   },
   "file_extension": ".py",
   "mimetype": "text/x-python",
   "name": "python",
   "nbconvert_exporter": "python",
   "pygments_lexer": "ipython2",
   "version": "2.7.10"
  }
 },
 "nbformat": 4,
 "nbformat_minor": 0
}
