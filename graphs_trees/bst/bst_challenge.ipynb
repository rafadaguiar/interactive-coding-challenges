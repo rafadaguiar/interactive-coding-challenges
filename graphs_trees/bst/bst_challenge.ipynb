{
 "cells": [
  {
   "cell_type": "markdown",
   "metadata": {},
   "source": [
    "<small><i>This notebook was prepared by [Donne Martin](https://github.com/donnemartin). Source and license info is on [GitHub](https://github.com/donnemartin/interactive-coding-challenges).</i></small>"
   ]
  },
  {
   "cell_type": "markdown",
   "metadata": {},
   "source": [
    "# Challenge Notebook"
   ]
  },
  {
   "cell_type": "markdown",
   "metadata": {},
   "source": [
    "## Problem: Implement a binary search tree with an insert method.\n",
    "\n",
    "* [Constraints](#Constraints)\n",
    "* [Test Cases](#Test-Cases)\n",
    "* [Algorithm](#Algorithm)\n",
    "* [Code](#Code)\n",
    "* [Unit Test](#Unit-Test)"
   ]
  },
  {
   "cell_type": "markdown",
   "metadata": {},
   "source": [
    "## Constraints\n",
    "\n",
    "* Can we assume we are working with valid integers?\n",
    "    * Yes\n",
    "* Can we assume all left descendents <= n < all right descendents?\n",
    "    * Yes\n",
    "* For simplicity, can we use just a Node class without a wrapper Tree class?\n",
    "    * Yes\n",
    "* Do we have to keep track of the parent nodes?\n",
    "    * This is optional"
   ]
  },
  {
   "cell_type": "markdown",
   "metadata": {},
   "source": [
    "## Test Cases\n",
    "\n",
    "### Insert\n",
    "\n",
    "Insert will be tested through the following traversal:\n",
    "\n",
    "### In-Order Traversal (Provided)\n",
    "\n",
    "* 5, 2, 8, 1, 3 -> 1, 2, 3, 5, 8\n",
    "* 1, 2, 3, 4, 5 -> 1, 2, 3, 4, 5"
   ]
  },
  {
   "cell_type": "markdown",
   "metadata": {},
   "source": [
    "## Algorithm\n",
    "\n",
    "Refer to the [Solution Notebook](http://nbviewer.ipython.org/github/donnemartin/interactive-coding-challenges/blob/master/graphs_trees/bst/bst_solution.ipynb).  If you are stuck and need a hint, the solution notebook's algorithm discussion might be a good place to start."
   ]
  },
  {
   "cell_type": "markdown",
   "metadata": {},
   "source": [
    "## Code"
   ]
  },
  {
   "cell_type": "code",
   "execution_count": 17,
   "metadata": {
    "collapsed": false
   },
   "outputs": [],
   "source": [
    "\"\"\"\n",
    "- It's fairly easy to do it on an iterative fashion.\n",
    "- The recursive solution isn't hard either, but you\n",
    "  can't forget to:\n",
    "  - Insert the node only when the position is empty\n",
    "  - Traverse to the correct child if the position is occupied\n",
    "- Complexity: Time O(log n), Space O(1)\n",
    "- Dificulty: #Easy\n",
    "\"\"\"\n",
    "class Node(object):\n",
    "\n",
    "    def __init__(self, data):\n",
    "        self.data = data\n",
    "        self.left = None\n",
    "        self.right = None\n",
    "\n",
    "def insert(root, data):\n",
    "    # Recursive solution\n",
    "    if root is None:\n",
    "        return Node(data)\n",
    "    if root.data < data:\n",
    "        if root.right is None:\n",
    "            root.right = insert(root.right, data)\n",
    "        else:\n",
    "            # Don't Forget\n",
    "            return insert(root.right, data)\n",
    "    else:\n",
    "        if root.left is None:\n",
    "            root.left = insert(root.left, data)\n",
    "        else:\n",
    "            # Don't Forget\n",
    "            return insert(root.left, data)\n",
    "\n",
    "def iterative_insert(root, data):\n",
    "    # Iterative solution\n",
    "    node = root\n",
    "    while node is not None:\n",
    "        aux = node\n",
    "        if node.data < data:\n",
    "            node = node.right\n",
    "        else:\n",
    "            node = node.left\n",
    "    if aux.data < data:\n",
    "        aux.right = Node(data)\n",
    "    else:\n",
    "        aux.left = Node(data)"
   ]
  },
  {
   "cell_type": "markdown",
   "metadata": {},
   "source": [
    "## Unit Test"
   ]
  },
  {
   "cell_type": "markdown",
   "metadata": {},
   "source": [
    "**The following unit test is expected to fail until you solve the challenge.**"
   ]
  },
  {
   "cell_type": "code",
   "execution_count": 18,
   "metadata": {
    "collapsed": true
   },
   "outputs": [],
   "source": [
    "%run dfs.py"
   ]
  },
  {
   "cell_type": "code",
   "execution_count": 19,
   "metadata": {
    "collapsed": true
   },
   "outputs": [],
   "source": [
    "%run ../utils/results.py"
   ]
  },
  {
   "cell_type": "code",
   "execution_count": 20,
   "metadata": {
    "collapsed": false
   },
   "outputs": [
    {
     "name": "stdout",
     "output_type": "stream",
     "text": [
      "Success: test_tree\n"
     ]
    }
   ],
   "source": [
    "# %load test_bst.py\n",
    "from nose.tools import assert_equal\n",
    "\n",
    "\n",
    "class TestTree(object):\n",
    "\n",
    "    def __init__(self):\n",
    "        self.results = Results()\n",
    "\n",
    "    def test_tree(self):\n",
    "        node = Node(5)\n",
    "        insert(node, 2)\n",
    "        insert(node, 8)\n",
    "        insert(node, 1)\n",
    "        insert(node, 3)\n",
    "        in_order_traversal(node, self.results.add_result)\n",
    "        assert_equal(str(self.results), '[1, 2, 3, 5, 8]')\n",
    "        self.results.clear_results()\n",
    "\n",
    "        node = Node(1)\n",
    "        insert(node, 2)\n",
    "        insert(node, 3)\n",
    "        insert(node, 4)\n",
    "        insert(node, 5)\n",
    "        in_order_traversal(node, self.results.add_result)\n",
    "        assert_equal(str(self.results), '[1, 2, 3, 4, 5]')\n",
    "\n",
    "        print('Success: test_tree')\n",
    "\n",
    "\n",
    "def main():\n",
    "    test = TestTree()\n",
    "    test.test_tree()\n",
    "\n",
    "\n",
    "if __name__ == '__main__':\n",
    "    main()"
   ]
  },
  {
   "cell_type": "markdown",
   "metadata": {},
   "source": [
    "## Solution Notebook\n",
    "\n",
    "Review the [Solution Notebook](http://nbviewer.ipython.org/github/donnemartin/interactive-coding-challenges/blob/master/graphs_trees/bst/bst_solution.ipynb) for a discussion on algorithms and code solutions."
   ]
  }
 ],
 "metadata": {
  "kernelspec": {
   "display_name": "Python 2",
   "language": "python",
   "name": "python2"
  },
  "language_info": {
   "codemirror_mode": {
    "name": "ipython",
    "version": 2
   },
   "file_extension": ".py",
   "mimetype": "text/x-python",
   "name": "python",
   "nbconvert_exporter": "python",
   "pygments_lexer": "ipython2",
   "version": "2.7.10"
  }
 },
 "nbformat": 4,
 "nbformat_minor": 0
}
