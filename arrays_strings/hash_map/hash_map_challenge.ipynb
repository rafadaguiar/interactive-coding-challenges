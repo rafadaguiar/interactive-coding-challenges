{
 "cells": [
  {
   "cell_type": "markdown",
   "metadata": {},
   "source": [
    "<small><i>This notebook was prepared by [Donne Martin](http://donnemartin.com). Source and license info is on [GitHub](https://github.com/donnemartin/interactive-coding-challenges).</i></small>"
   ]
  },
  {
   "cell_type": "markdown",
   "metadata": {},
   "source": [
    "# Challenge Notebook"
   ]
  },
  {
   "cell_type": "markdown",
   "metadata": {},
   "source": [
    "## Problem: Implement a hash table with set, get, and remove methods.\n",
    "\n",
    "* [Constraints](#Constraints)\n",
    "* [Test Cases](#Test-Cases)\n",
    "* [Algorithm](#Algorithm)\n",
    "* [Code](#Code)\n",
    "* [Unit Test](#Unit-Test)\n",
    "* [Solution Notebook](#Solution-Notebook)"
   ]
  },
  {
   "cell_type": "markdown",
   "metadata": {},
   "source": [
    "## Constraints\n",
    "\n",
    "* For simplicity, are the keys integers only?\n",
    "    * Yes\n",
    "* For collision resolution, can we use chaining?\n",
    "    * Yes\n",
    "* Do we have to worry about load factors?\n",
    "    * No"
   ]
  },
  {
   "cell_type": "markdown",
   "metadata": {},
   "source": [
    "## Test Cases\n",
    "\n",
    "* get on an empty hash table index\n",
    "* set on an empty hash table index\n",
    "* set on a non empty hash table index\n",
    "* set on a key that already exists\n",
    "* remove on a key with an entry\n",
    "* remove on a key without an entry"
   ]
  },
  {
   "cell_type": "markdown",
   "metadata": {},
   "source": [
    "## Algorithm\n",
    "\n",
    "Refer to the [Solution Notebook](http://nbviewer.ipython.org/github/donnemartin/interactive-coding-challenges/blob/master/arrays_strings/hash_map/hash_map_solution.ipynb).  If you are stuck and need a hint, the solution notebook's algorithm discussion might be a good place to start."
   ]
  },
  {
   "cell_type": "markdown",
   "metadata": {},
   "source": [
    "## Code"
   ]
  },
  {
   "cell_type": "code",
   "execution_count": 59,
   "metadata": {
    "collapsed": false
   },
   "outputs": [],
   "source": [
    "class Item(object):\n",
    "\n",
    "    def __init__(self, key, value, nxt=None):\n",
    "        self.key = key\n",
    "        self.value = value\n",
    "        self.nxt = nxt\n",
    "\n",
    "\n",
    "class HashTable(object):\n",
    "\n",
    "    def __init__(self, size):\n",
    "        self.size = size+1\n",
    "        self.table = [None for i in range(self.size)]\n",
    "\n",
    "    def hash_function(self, key):\n",
    "        return (key % 13) % self.size\n",
    "\n",
    "    def set(self, key, value):\n",
    "        h = self.hash_function(key)\n",
    "        if self.table[h] is None: \n",
    "            self.table[h] = Item(key, value)\n",
    "        else:\n",
    "            item = self.table[h]\n",
    "            if item.key == key:\n",
    "                self.table[h] = Item(key, value)\n",
    "                return\n",
    "            while item.nxt is not None:\n",
    "                if item.nxt.key == key:\n",
    "                    new_item = Item(key, value)\n",
    "                    if item.nxt.nxt is not None:\n",
    "                        new_item.nxt = item.nxt.nxt\n",
    "                    item.nxt = new_item\n",
    "                    return\n",
    "                item = item.nxt    \n",
    "            item.nxt = Item(key, value)\n",
    "    \n",
    "    def get(self, key):\n",
    "        h = self.hash_function(key)\n",
    "        \n",
    "        if self.table[h] is None: \n",
    "            return None\n",
    "        else:\n",
    "            nxt = self.table[h]\n",
    "            while nxt is not None:\n",
    "                if nxt.key == key:\n",
    "                    return nxt.value\n",
    "                nxt = nxt.nxt\n",
    "        return None\n",
    "\n",
    "    def remove(self, key):\n",
    "        h = self.hash_function(key)\n",
    "        if self.table[h] is None: \n",
    "            return\n",
    "        else:\n",
    "            item = self.table[h]\n",
    "            if item.key == key:\n",
    "                self.table[h] = None\n",
    "                return\n",
    "            while item.nxt is not None:\n",
    "                if item.nxt.key == key:\n",
    "                    if item.nxt.nxt is not None:\n",
    "                        item.nxt = item.nxt.nxt\n",
    "                    item.nxt = None\n",
    "                    return\n",
    "                item = item.nxt"
   ]
  },
  {
   "cell_type": "markdown",
   "metadata": {},
   "source": [
    "## Unit Test"
   ]
  },
  {
   "cell_type": "markdown",
   "metadata": {},
   "source": [
    "\n",
    "\n",
    "**The following unit test is expected to fail until you solve the challenge.**"
   ]
  },
  {
   "cell_type": "code",
   "execution_count": 60,
   "metadata": {
    "collapsed": false
   },
   "outputs": [
    {
     "name": "stdout",
     "output_type": "stream",
     "text": [
      "Test: get on an empty hash table index\n",
      "Test: set on an empty hash table index\n",
      "Test: set on a non empty hash table index\n",
      "Test: set on a key that already exists\n",
      "Test: remove on a key that already exists\n",
      "Test: remove on a key that doesn't exist\n",
      "Success: test_end_to_end\n"
     ]
    }
   ],
   "source": [
    "# %load test_hash_map.py\n",
    "from nose.tools import assert_equal\n",
    "\n",
    "\n",
    "class TestHashMap(object):\n",
    "\n",
    "    # TODO: It would be better if we had unit tests for each\n",
    "    # method in addition to the following end-to-end test\n",
    "    def test_end_to_end(self):\n",
    "        hash_table = HashTable(10)\n",
    "\n",
    "        print(\"Test: get on an empty hash table index\")\n",
    "        assert_equal(hash_table.get(0), None)\n",
    "\n",
    "        print(\"Test: set on an empty hash table index\")\n",
    "        hash_table.set(0, 'foo')\n",
    "        assert_equal(hash_table.get(0), 'foo')\n",
    "        hash_table.set(1, 'bar')\n",
    "        assert_equal(hash_table.get(1), 'bar')\n",
    "\n",
    "        print(\"Test: set on a non empty hash table index\")\n",
    "        hash_table.set(10, 'foo2')\n",
    "        assert_equal(hash_table.get(0), 'foo')\n",
    "        assert_equal(hash_table.get(10), 'foo2')\n",
    "\n",
    "        print(\"Test: set on a key that already exists\")\n",
    "        hash_table.set(10, 'foo3')\n",
    "        assert_equal(hash_table.get(0), 'foo')\n",
    "        assert_equal(hash_table.get(10), 'foo3')\n",
    "\n",
    "        print(\"Test: remove on a key that already exists\")\n",
    "        hash_table.remove(10)\n",
    "        assert_equal(hash_table.get(0), 'foo')\n",
    "        assert_equal(hash_table.get(10), None)\n",
    "\n",
    "        print(\"Test: remove on a key that doesn't exist\")\n",
    "        hash_table.remove(-1)\n",
    "\n",
    "        print('Success: test_end_to_end')\n",
    "\n",
    "\n",
    "def main():\n",
    "    test = TestHashMap()\n",
    "    test.test_end_to_end()\n",
    "\n",
    "\n",
    "if __name__ == '__main__':\n",
    "    main()"
   ]
  },
  {
   "cell_type": "markdown",
   "metadata": {},
   "source": [
    "## Solution Notebook\n",
    "\n",
    "Review the [Solution Notebook](http://nbviewer.ipython.org/github/donnemartin/interactive-coding-challenges/blob/master/arrays_strings/hash_map/hash_map_solution.ipynb) for a discussion on algorithms and code solutions."
   ]
  }
 ],
 "metadata": {
  "kernelspec": {
   "display_name": "Python 2",
   "language": "python",
   "name": "python2"
  },
  "language_info": {
   "codemirror_mode": {
    "name": "ipython",
    "version": 2
   },
   "file_extension": ".py",
   "mimetype": "text/x-python",
   "name": "python",
   "nbconvert_exporter": "python",
   "pygments_lexer": "ipython2",
   "version": "2.7.10"
  }
 },
 "nbformat": 4,
 "nbformat_minor": 0
}
