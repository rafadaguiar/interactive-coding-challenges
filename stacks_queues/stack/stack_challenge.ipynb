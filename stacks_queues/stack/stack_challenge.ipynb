{
 "cells": [
  {
   "cell_type": "markdown",
   "metadata": {},
   "source": [
    "<small><i>This notebook was prepared by [Donne Martin](http://donnemartin.com). Source and license info is on [GitHub](https://github.com/donnemartin/interactive-coding-challenges).</i></small>"
   ]
  },
  {
   "cell_type": "markdown",
   "metadata": {},
   "source": [
    "# Challenge Notebook"
   ]
  },
  {
   "cell_type": "markdown",
   "metadata": {},
   "source": [
    "## Problem: Implement a stack with push, pop, peek, and is_empty methods using a linked list.\n",
    "\n",
    "* [Constraints](#Constraints)\n",
    "* [Test Cases](#Test-Cases)\n",
    "* [Algorithm](#Algorithm)\n",
    "* [Code](#Code)\n",
    "* [Unit Test](#Unit-Test)\n",
    "* [Pythonic-Code](#Pythonic-Code)\n",
    "* [Solution Notebook](#Solution-Notebook)"
   ]
  },
  {
   "cell_type": "markdown",
   "metadata": {},
   "source": [
    "## Constraints\n",
    "\n",
    "* None"
   ]
  },
  {
   "cell_type": "markdown",
   "metadata": {},
   "source": [
    "## Test Cases\n",
    "\n",
    "### Push\n",
    "\n",
    "* Push to empty stack\n",
    "* Push to non-empty stack\n",
    "\n",
    "### Pop\n",
    "\n",
    "* Pop on empty stack\n",
    "* Pop on single element stack\n",
    "* Pop on multiple element stack\n",
    "\n",
    "### Peek\n",
    "\n",
    "* Peek on empty stack\n",
    "* Peek on one or more element stack\n",
    "\n",
    "### Is Empty\n",
    "\n",
    "* Is empty on empty stack\n",
    "* Is empty on one or more element stack"
   ]
  },
  {
   "cell_type": "markdown",
   "metadata": {},
   "source": [
    "## Algorithm\n",
    "\n",
    "Refer to the [Solution Notebook](http://nbviewer.ipython.org/github/donnemartin/interactive-coding-challenges/blob/master/stacks_queues/stack/stack_solution.ipynb).  If you are stuck and need a hint, the solution notebook's algorithm discussion might be a good place to start."
   ]
  },
  {
   "cell_type": "markdown",
   "metadata": {},
   "source": [
    "## Code"
   ]
  },
  {
   "cell_type": "code",
   "execution_count": 3,
   "metadata": {
    "collapsed": false
   },
   "outputs": [],
   "source": [
    "class NodeStandard(object):\n",
    "    \"\"\"Uses standard Python Lists\n",
    "    \"\"\"\n",
    "    def __init__(self, data):\n",
    "        self.data = data\n",
    "\n",
    "\n",
    "class StackStandard(object):\n",
    "    \"\"\"Uses standard Python Lists\n",
    "    \"\"\"\n",
    "    def __init__(self, top=None):\n",
    "        self.stack = []\n",
    "        if top is not None:\n",
    "            self.stack.append(top)\n",
    "            \n",
    "    def push(self, data):\n",
    "        self.stack.append(Node(data))\n",
    "\n",
    "    def pop(self):\n",
    "        if self.is_empty():\n",
    "            return None\n",
    "        else:\n",
    "            return self.stack.pop().data\n",
    "\n",
    "    def peek(self):\n",
    "        if self.is_empty():\n",
    "            return None\n",
    "        else:\n",
    "            return self.stack[-1].data\n",
    "\n",
    "    def is_empty(self):\n",
    "        return True if self.stack == [] else False\n",
    "    \n",
    "\n",
    "class Node(object):\n",
    "    \"\"\"Uses Linked Lists\n",
    "    \"\"\"\n",
    "    def __init__(self, data):\n",
    "        self.data = data\n",
    "        self.previous = None\n",
    "\n",
    "\n",
    "class Stack(object):\n",
    "    \"\"\"Uses Linked Lists\n",
    "    \"\"\"\n",
    "    def __init__(self, top=None):\n",
    "        self.top = top\n",
    "\n",
    "    def push(self, data):\n",
    "        node = Node(data)\n",
    "        node.previous = self.top\n",
    "        self.top = node\n",
    "\n",
    "    def pop(self):\n",
    "        if self.is_empty():\n",
    "            return None\n",
    "        else:\n",
    "            top = self.top\n",
    "            data = top.data\n",
    "            \"\"\"The garbage collector removes any objects\n",
    "            without inward references. There's no need to set\n",
    "            outward references to none.\"\"\"\n",
    "            self.top = top.previous\n",
    "            top.previous = \n",
    "            return data\n",
    "\n",
    "    def peek(self):\n",
    "        if self.is_empty():\n",
    "            return None\n",
    "        else:\n",
    "            return self.top.data\n",
    "\n",
    "    def is_empty(self):\n",
    "        return self.top is None\n",
    "    "
   ]
  },
  {
   "cell_type": "markdown",
   "metadata": {},
   "source": [
    "## Unit Test\n",
    "\n",
    "\n",
    "\n",
    "**The following unit test is expected to fail until you solve the challenge.**"
   ]
  },
  {
   "cell_type": "code",
   "execution_count": 4,
   "metadata": {
    "collapsed": false
   },
   "outputs": [
    {
     "name": "stdout",
     "output_type": "stream",
     "text": [
      "Test: Empty stack\n",
      "Test: One element\n",
      "Test: More than one element\n",
      "Success: test_end_to_end\n"
     ]
    }
   ],
   "source": [
    "# %load test_stack.py\n",
    "from nose.tools import assert_equal\n",
    "\n",
    "\n",
    "class TestStack(object):\n",
    "\n",
    "    # TODO: It would be better if we had unit tests for each\n",
    "    # method in addition to the following end-to-end test\n",
    "    def test_end_to_end(self):\n",
    "        print('Test: Empty stack')\n",
    "        stack = Stack()\n",
    "        assert_equal(stack.peek(), None)\n",
    "        assert_equal(stack.pop(), None)\n",
    "\n",
    "        print('Test: One element')\n",
    "        top = Node(5)\n",
    "        stack = Stack(top)\n",
    "        assert_equal(stack.pop(), 5)\n",
    "        assert_equal(stack.peek(), None)\n",
    "\n",
    "        print('Test: More than one element')\n",
    "        stack = Stack()\n",
    "        stack.push(1)\n",
    "        stack.push(2)\n",
    "        stack.push(3)\n",
    "        assert_equal(stack.pop(), 3)\n",
    "        assert_equal(stack.peek(), 2)\n",
    "        assert_equal(stack.pop(), 2)\n",
    "        assert_equal(stack.peek(), 1)\n",
    "        assert_equal(stack.is_empty(), False)\n",
    "        assert_equal(stack.pop(), 1)\n",
    "        assert_equal(stack.peek(), None)\n",
    "        assert_equal(stack.is_empty(), True)\n",
    "\n",
    "        print('Success: test_end_to_end')\n",
    "\n",
    "\n",
    "def main():\n",
    "    test = TestStack()\n",
    "    test.test_end_to_end()\n",
    "\n",
    "\n",
    "if __name__ == '__main__':\n",
    "    main()"
   ]
  },
  {
   "cell_type": "markdown",
   "metadata": {},
   "source": [
    "## Solution Notebook\n",
    "\n",
    "Review the [Solution Notebook](http://nbviewer.ipython.org/github/donnemartin/interactive-coding-challenges/blob/master/stacks_queues/stack/stack_solution.ipynb) for a discussion on algorithms and code solutions."
   ]
  }
 ],
 "metadata": {
  "kernelspec": {
   "display_name": "Python 2",
   "language": "python",
   "name": "python2"
  },
  "language_info": {
   "codemirror_mode": {
    "name": "ipython",
    "version": 2
   },
   "file_extension": ".py",
   "mimetype": "text/x-python",
   "name": "python",
   "nbconvert_exporter": "python",
   "pygments_lexer": "ipython2",
   "version": "2.7.10"
  }
 },
 "nbformat": 4,
 "nbformat_minor": 0
}
