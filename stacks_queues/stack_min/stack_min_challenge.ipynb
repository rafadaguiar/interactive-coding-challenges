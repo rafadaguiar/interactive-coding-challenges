{
 "cells": [
  {
   "cell_type": "markdown",
   "metadata": {},
   "source": [
    "<small><i>This notebook was prepared by [Donne Martin](http://donnemartin.com). Source and license info is on [GitHub](https://github.com/donnemartin/interactive-coding-challenges).</i></small>"
   ]
  },
  {
   "cell_type": "markdown",
   "metadata": {},
   "source": [
    "# Challenge Notebook"
   ]
  },
  {
   "cell_type": "markdown",
   "metadata": {},
   "source": [
    "## Problem: Implement a stack with push, pop, and min methods running O(1) time.\n",
    "\n",
    "* [Constraints](#Constraints)\n",
    "* [Test Cases](#Test-Cases)\n",
    "* [Algorithm](#Algorithm)\n",
    "* [Code](#Code)\n",
    "* [Unit Test](#Unit-Test)\n",
    "* [Solution Notebook](#Solution-Notebook)"
   ]
  },
  {
   "cell_type": "markdown",
   "metadata": {},
   "source": [
    "## Constraints\n",
    "\n",
    "* Can we assume this is a stack of ints?\n",
    "    * Yes\n",
    "* If we call this function on an empty stack, can we return maxsize?\n",
    "    * Yes\n",
    "* Can we assume we already have a stack class that can be used for this problem?\n",
    "    * Yes"
   ]
  },
  {
   "cell_type": "markdown",
   "metadata": {},
   "source": [
    "## Test Cases\n",
    "\n",
    "* Push/pop on empty stack\n",
    "* Push/pop on non-empty stack"
   ]
  },
  {
   "cell_type": "markdown",
   "metadata": {},
   "source": [
    "## Algorithm\n",
    "\n",
    "Refer to the [Solution Notebook](http://nbviewer.ipython.org/github/donnemartin/interactive-coding-challenges/blob/master/stacks_queues/stack_min/stack_min_solution.ipynb).  If you are stuck and need a hint, the solution notebook's algorithm discussion might be a good place to start."
   ]
  },
  {
   "cell_type": "markdown",
   "metadata": {},
   "source": [
    "## Code"
   ]
  },
  {
   "cell_type": "code",
   "execution_count": 1,
   "metadata": {
    "collapsed": true
   },
   "outputs": [],
   "source": [
    "# %load ../stack/stack.py\n",
    "class Node(object):\n",
    "\n",
    "    def __init__(self, data):\n",
    "        self.data = data\n",
    "        self.next = None\n",
    "\n",
    "\n",
    "class Stack(object):\n",
    "\n",
    "    def __init__(self, top=None):\n",
    "        self.top = top\n",
    "\n",
    "    def push(self, data):\n",
    "        node = Node(data)\n",
    "        node.next = self.top\n",
    "        self.top = node\n",
    "\n",
    "    def pop(self):\n",
    "        if self.top is not None:\n",
    "            data = self.top.data\n",
    "            self.top = self.top.next\n",
    "            return data\n",
    "        return None\n",
    "\n",
    "    def peek(self):\n",
    "        if self.top is not None:\n",
    "            return self.top.data\n",
    "        return None\n",
    "\n",
    "    def is_empty(self):\n",
    "        return self.peek() is None"
   ]
  },
  {
   "cell_type": "code",
   "execution_count": 16,
   "metadata": {
    "collapsed": false
   },
   "outputs": [],
   "source": [
    "\"\"\"The key to this problem is to build a separate\n",
    "stack to keep the minimum values as we go.\n",
    "\"\"\"\n",
    "import sys\n",
    "\n",
    "\n",
    "class MyStack(Stack):\n",
    "\n",
    "    def __init__(self, top=None):\n",
    "        self.min_stack = Stack()\n",
    "        super(MyStack, self).__init__(top)\n",
    "    \n",
    "    def min(self):\n",
    "        if self.min_stack.is_empty():\n",
    "            return sys.maxsize\n",
    "        else:\n",
    "            return self.min_stack.peek()\n",
    "\n",
    "    def push(self, data):\n",
    "        super(MyStack, self).push(data)\n",
    "        if data < self.min():\n",
    "            self.min_stack.push(data)\n",
    "    \n",
    "    def pop(self):\n",
    "        data = super(MyStack, self).pop()\n",
    "        if data == self.min():\n",
    "            self.min_stack.pop()\n",
    "        return data"
   ]
  },
  {
   "cell_type": "markdown",
   "metadata": {},
   "source": [
    "## Unit Test\n",
    "\n",
    "\n",
    "\n",
    "**The following unit test is expected to fail until you solve the challenge.**"
   ]
  },
  {
   "cell_type": "code",
   "execution_count": 17,
   "metadata": {
    "collapsed": false
   },
   "outputs": [
    {
     "name": "stdout",
     "output_type": "stream",
     "text": [
      "Test: Push on empty stack, non-empty stack\n",
      "Test: Pop on non-empty stack\n",
      "Test: Pop empty stack\n",
      "Success: test_stack_min\n"
     ]
    }
   ],
   "source": [
    "# %load test_stack_min.py\n",
    "from nose.tools import assert_equal\n",
    "\n",
    "\n",
    "class TestStackMin(object):\n",
    "\n",
    "    def test_stack_min(self):\n",
    "        print('Test: Push on empty stack, non-empty stack')\n",
    "        stack = MyStack()\n",
    "        stack.push(5)\n",
    "        assert_equal(stack.peek(), 5)\n",
    "        assert_equal(stack.min(), 5)\n",
    "        stack.push(1)\n",
    "        assert_equal(stack.peek(), 1)\n",
    "        assert_equal(stack.min(), 1)\n",
    "        stack.push(3)\n",
    "        assert_equal(stack.peek(), 3)\n",
    "        assert_equal(stack.min(), 1)\n",
    "        stack.push(0)\n",
    "        assert_equal(stack.peek(), 0)\n",
    "        assert_equal(stack.min(), 0)\n",
    "\n",
    "        print('Test: Pop on non-empty stack')\n",
    "        assert_equal(stack.pop(), 0)\n",
    "        assert_equal(stack.min(), 1)\n",
    "        assert_equal(stack.pop(), 3)\n",
    "        assert_equal(stack.min(), 1)\n",
    "        assert_equal(stack.pop(), 1)\n",
    "        assert_equal(stack.min(), 5)\n",
    "        assert_equal(stack.pop(), 5)\n",
    "        assert_equal(stack.min(), sys.maxsize)\n",
    "\n",
    "        print('Test: Pop empty stack')\n",
    "        assert_equal(stack.pop(), None)\n",
    "\n",
    "        print('Success: test_stack_min')\n",
    "\n",
    "\n",
    "def main():\n",
    "    test = TestStackMin()\n",
    "    test.test_stack_min()\n",
    "\n",
    "\n",
    "if __name__ == '__main__':\n",
    "    main()"
   ]
  },
  {
   "cell_type": "markdown",
   "metadata": {},
   "source": [
    "## Solution Notebook\n",
    "\n",
    "Review the [Solution Notebook](http://nbviewer.ipython.org/github/donnemartin/interactive-coding-challenges/blob/master/stacks_queues/stack_min/stack_min_solution.ipynb) for a discussion on algorithms and code solutions."
   ]
  }
 ],
 "metadata": {
  "kernelspec": {
   "display_name": "Python 2",
   "language": "python",
   "name": "python2"
  },
  "language_info": {
   "codemirror_mode": {
    "name": "ipython",
    "version": 2
   },
   "file_extension": ".py",
   "mimetype": "text/x-python",
   "name": "python",
   "nbconvert_exporter": "python",
   "pygments_lexer": "ipython2",
   "version": "2.7.10"
  }
 },
 "nbformat": 4,
 "nbformat_minor": 0
}
