{
 "cells": [
  {
   "cell_type": "markdown",
   "metadata": {},
   "source": [
    "<small><i>This notebook was prepared by [Donne Martin](http://donnemartin.com). Source and license info is on [GitHub](https://github.com/donnemartin/interactive-coding-challenges).</i></small>"
   ]
  },
  {
   "cell_type": "markdown",
   "metadata": {},
   "source": [
    "# Challenge Notebook"
   ]
  },
  {
   "cell_type": "markdown",
   "metadata": {},
   "source": [
    "## Problem: Implement a queue using two stacks.\n",
    "\n",
    "* [Constraints](#Constraints)\n",
    "* [Test Cases](#Test-Cases)\n",
    "* [Algorithm](#Algorithm)\n",
    "* [Code](#Code)\n",
    "* [Unit Test](#Unit-Test)\n",
    "* [Solution Notebook](#Solution-Notebook)"
   ]
  },
  {
   "cell_type": "markdown",
   "metadata": {},
   "source": [
    "## Constraints\n",
    "\n",
    "* Do you expect the methods to be enqueue and dequeue?\n",
    "    * Yes\n",
    "* Can we assume we already have a stack class that can be used for this problem?\n",
    "    * Yes"
   ]
  },
  {
   "cell_type": "markdown",
   "metadata": {},
   "source": [
    "## Test Cases\n",
    "\n",
    "* Enqueue and dequeue on empty stack\n",
    "* Enqueue and dequeue on non-empty stack\n",
    "* Multiple enqueue in a row\n",
    "* Multiple dequeue in a row\n",
    "* Enqueue after a dequeue\n",
    "* Dequeue after an enqueue"
   ]
  },
  {
   "cell_type": "markdown",
   "metadata": {},
   "source": [
    "## Algorithm\n",
    "\n",
    "Refer to the [Solution Notebook](http://nbviewer.ipython.org/github/donnemartin/interactive-coding-challenges/blob/master/stacks_queues/queue_from_stacks/queue_from_stacks_solution.ipynb).  If you are stuck and need a hint, the solution notebook's algorithm discussion might be a good place to start."
   ]
  },
  {
   "cell_type": "markdown",
   "metadata": {},
   "source": [
    "## Code"
   ]
  },
  {
   "cell_type": "code",
   "execution_count": 33,
   "metadata": {
    "collapsed": false
   },
   "outputs": [],
   "source": [
    "# %load ../stack/stack.py\n",
    "class Node(object):\n",
    "\n",
    "    def __init__(self, data):\n",
    "        self.data = data\n",
    "        self.next = None\n",
    "\n",
    "\n",
    "class Stack(object):\n",
    "\n",
    "    def __init__(self, top=None):\n",
    "        self.top = top\n",
    "\n",
    "    def push(self, data):\n",
    "        node = Node(data)\n",
    "        node.next = self.top\n",
    "        self.top = node\n",
    "\n",
    "    def pop(self):\n",
    "        if self.top is not None:\n",
    "            data = self.top.data\n",
    "            self.top = self.top.next\n",
    "            return data\n",
    "        return None\n",
    "\n",
    "    def peek(self):\n",
    "        if self.top is not None:\n",
    "            return self.top.data\n",
    "        return None\n",
    "\n",
    "    def is_empty(self):\n",
    "        return self.peek() is None\n",
    "    \n",
    "    def print_(self):\n",
    "        stack = []\n",
    "        node = self.top\n",
    "        while node is not None:\n",
    "            stack.append(node.data)\n",
    "            node = node.next\n",
    "        print stack"
   ]
  },
  {
   "cell_type": "code",
   "execution_count": 62,
   "metadata": {
    "collapsed": false
   },
   "outputs": [],
   "source": [
    "\"\"\"Notes:\n",
    "- Shifted the stack twice (returning to its initial state) [#Error]\n",
    "- Forgot to shift the stack after pop [#Error]\n",
    "- Complexity: Time O(n), Space O(n)\n",
    "- Dificulty: Easy\n",
    "\"\"\"\n",
    "\n",
    "class QueueFromStacks(object):\n",
    "\n",
    "    def __init__(self):\n",
    "        self.left = Stack()\n",
    "        self.right = Stack()\n",
    "        \n",
    "    def shift_stacks(self, source, destination):\n",
    "        while not source.is_empty():\n",
    "            destination.push(source.pop())\n",
    "\n",
    "    def enqueue(self, data):\n",
    "        if self.left.is_empty() and not self.right.is_empty():\n",
    "            self.shift_stacks(self.right, self.left)\n",
    "        self.left.push(data)\n",
    "    \n",
    "    def dequeue(self):\n",
    "        if not self.left.is_empty() and self.right.is_empty():\n",
    "            self.shift_stacks(self.left, self.right)\n",
    "        return self.right.pop()\n",
    "    \n",
    "    def print_(self):\n",
    "        stack = []\n",
    "        while not self.stack.is_empty():\n",
    "            stack.append(self.stack.pop())\n",
    "        print stack"
   ]
  },
  {
   "cell_type": "markdown",
   "metadata": {},
   "source": [
    "## Unit Test\n",
    "\n"
   ]
  },
  {
   "cell_type": "code",
   "execution_count": 63,
   "metadata": {
    "collapsed": false
   },
   "outputs": [
    {
     "name": "stdout",
     "output_type": "stream",
     "text": [
      "Test: Dequeue on empty stack\n",
      "Test: Enqueue on empty stack\n",
      "Test: Enqueue on non-empty stack\n",
      "Test: Multiple enqueue in a row\n",
      "Test: Dequeue on non-empty stack\n",
      "Test: Dequeue after an enqueue\n",
      "Test: Multiple dequeue in a row\n",
      "Test: Enqueue after a dequeue\n",
      "Success: test_queue_from_stacks\n"
     ]
    }
   ],
   "source": [
    "# %load test_queue_from_stacks.py\n",
    "from nose.tools import assert_equal\n",
    "\n",
    "\n",
    "class TestQueueFromStacks(object):\n",
    "\n",
    "    def test_queue_from_stacks(self):\n",
    "        print('Test: Dequeue on empty stack')\n",
    "        queue = QueueFromStacks()\n",
    "        assert_equal(queue.dequeue(), None)\n",
    "\n",
    "        print('Test: Enqueue on empty stack')\n",
    "        print('Test: Enqueue on non-empty stack')\n",
    "        print('Test: Multiple enqueue in a row')\n",
    "        num_items = 3\n",
    "        for i in range(0, num_items):\n",
    "            queue.enqueue(i)\n",
    "        print('Test: Dequeue on non-empty stack')\n",
    "        print('Test: Dequeue after an enqueue')\n",
    "        assert_equal(queue.dequeue(), 0)\n",
    "\n",
    "        print('Test: Multiple dequeue in a row')\n",
    "        assert_equal(queue.dequeue(), 1)\n",
    "        assert_equal(queue.dequeue(), 2)\n",
    "\n",
    "        print('Test: Enqueue after a dequeue')\n",
    "        queue.enqueue(5)\n",
    "        assert_equal(queue.dequeue(), 5)\n",
    "\n",
    "        print('Success: test_queue_from_stacks')\n",
    "\n",
    "\n",
    "def main():\n",
    "    test = TestQueueFromStacks()\n",
    "    test.test_queue_from_stacks()\n",
    "\n",
    "\n",
    "if __name__ == '__main__':\n",
    "    main()"
   ]
  },
  {
   "cell_type": "markdown",
   "metadata": {},
   "source": [
    "## Solution Notebook\n",
    "\n",
    "Review the [Solution Notebook](http://nbviewer.ipython.org/github/donnemartin/interactive-coding-challenges/blob/master/stacks_queues/queue_from_stacks/queue_from_stacks_solution.ipynb) for a discussion on algorithms and code solutions."
   ]
  }
 ],
 "metadata": {
  "kernelspec": {
   "display_name": "Python 2",
   "language": "python",
   "name": "python2"
  },
  "language_info": {
   "codemirror_mode": {
    "name": "ipython",
    "version": 2
   },
   "file_extension": ".py",
   "mimetype": "text/x-python",
   "name": "python",
   "nbconvert_exporter": "python",
   "pygments_lexer": "ipython2",
   "version": "2.7.10"
  }
 },
 "nbformat": 4,
 "nbformat_minor": 0
}
