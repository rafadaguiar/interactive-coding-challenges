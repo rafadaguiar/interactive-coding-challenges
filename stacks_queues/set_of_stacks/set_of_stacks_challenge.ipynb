{
 "cells": [
  {
   "cell_type": "markdown",
   "metadata": {},
   "source": [
    "<small><i>This notebook was prepared by [Donne Martin](http://donnemartin.com). Source and license info is on [GitHub](https://github.com/donnemartin/interactive-coding-challenges).</i></small>"
   ]
  },
  {
   "cell_type": "markdown",
   "metadata": {},
   "source": [
    "# Challenge Notebook"
   ]
  },
  {
   "cell_type": "markdown",
   "metadata": {},
   "source": [
    "## Problem: Implement SetOfStacks that wraps a list of stacks, where each stack is bound by a capacity.\n",
    "\n",
    "* [Constraints](#Constraints)\n",
    "* [Test Cases](#Test-Cases)\n",
    "* [Algorithm](#Algorithm)\n",
    "* [Code](#Code)\n",
    "* [Unit Test](#Unit-Test)\n",
    "* [Solution Notebook](#Solution-Notebook)"
   ]
  },
  {
   "cell_type": "markdown",
   "metadata": {},
   "source": [
    "## Constraints\n",
    "\n",
    "* Can we assume we already have a stack class that can be used for this problem?\n",
    "    * Yes\n",
    "* If a stack becomes full, we should automatically create one?\n",
    "    * Yes\n",
    "* If a stack becomes empty, should we delete it?\n",
    "    * Yes"
   ]
  },
  {
   "cell_type": "markdown",
   "metadata": {},
   "source": [
    "## Test Cases\n",
    "\n",
    "* Push and pop on an empty stack\n",
    "* Push and pop on a non-empty stack\n",
    "* Push on a capacity stack to create a new one\n",
    "* Pop on a one element stack to destroy it"
   ]
  },
  {
   "cell_type": "markdown",
   "metadata": {},
   "source": [
    "## Algorithm\n",
    "\n",
    "Refer to the [Solution Notebook](http://nbviewer.ipython.org/github/donnemartin/interactive-coding-challenges/blob/master/stacks_queues/set_of_stacks/set_of_stacks_solution.ipynb).  If you are stuck and need a hint, the solution notebook's algorithm discussion might be a good place to start."
   ]
  },
  {
   "cell_type": "markdown",
   "metadata": {},
   "source": [
    "## Code"
   ]
  },
  {
   "cell_type": "code",
   "execution_count": 10,
   "metadata": {
    "collapsed": false
   },
   "outputs": [],
   "source": [
    "# %load ../stack/stack.py\n",
    "class Node(object):\n",
    "\n",
    "    def __init__(self, data):\n",
    "        self.data = data\n",
    "        self.next = None\n",
    "\n",
    "\n",
    "class Stack(object):\n",
    "\n",
    "    def __init__(self, top=None):\n",
    "        self.top = top\n",
    "\n",
    "    def push(self, data):\n",
    "        node = Node(data)\n",
    "        node.next = self.top\n",
    "        self.top = node\n",
    "\n",
    "    def pop(self):\n",
    "        if self.top is not None:\n",
    "            data = self.top.data\n",
    "            self.top = self.top.next\n",
    "            return data\n",
    "        return None\n",
    "\n",
    "    def peek(self):\n",
    "        if self.top is not None:\n",
    "            return self.top.data\n",
    "        return None\n",
    "\n",
    "    def is_empty(self):\n",
    "        return self.peek() is None"
   ]
  },
  {
   "cell_type": "code",
   "execution_count": 11,
   "metadata": {
    "collapsed": false
   },
   "outputs": [],
   "source": [
    "\"\"\"Notes:\n",
    "- Remember the use of super(ChildClass, self)\n",
    "- Pay attention to the initialization of variables\n",
    "- Pay attention to __init__ args\n",
    "- Complexity: Time O(1), Space o(n)\n",
    "- Dificulty: Easy\n",
    "- Tags: #Easy\n",
    "\"\"\"\n",
    "class StackWithCapacity(Stack):\n",
    "\n",
    "    def __init__(self, top=None, capacity=10):\n",
    "        super(StackWithCapacity, self).__init__(top)\n",
    "        self.capacity = capacity\n",
    "\n",
    "    def push(self, data):\n",
    "        self.capacity -= 1\n",
    "        super(StackWithCapacity, self).push(data)\n",
    "\n",
    "    def pop(self):\n",
    "        self.capacity += 1\n",
    "        return super(StackWithCapacity, self).pop()\n",
    "    \n",
    "    def is_full(self):\n",
    "        return self.capacity == 0\n",
    "\n",
    "    \n",
    "class SetOfStacks(object):\n",
    "\n",
    "    def __init__(self, capacity):\n",
    "        self.stacks = [StackWithCapacity(None, capacity)]\n",
    "        self.capacity = capacity\n",
    "\n",
    "    def push(self, data):\n",
    "        if self.stacks[-1].is_full():\n",
    "            self.stacks.append(\n",
    "                StackWithCapacity(None, self.capacity)\n",
    "            )\n",
    "        self.stacks[-1].push(data)\n",
    "        \n",
    "    def pop(self):\n",
    "        if self.stacks[-1].capacity == self.capacity: # Empty stack\n",
    "            self.stacks.pop()\n",
    "        if self.stacks == []: # Empty set of stacks\n",
    "            return None\n",
    "        return self.stacks[-1].pop()\n",
    "            "
   ]
  },
  {
   "cell_type": "markdown",
   "metadata": {},
   "source": [
    "## Unit Test\n",
    "\n",
    "\n",
    "\n",
    "**The following unit test is expected to fail until you solve the challenge.**"
   ]
  },
  {
   "cell_type": "code",
   "execution_count": 12,
   "metadata": {
    "collapsed": false
   },
   "outputs": [
    {
     "name": "stdout",
     "output_type": "stream",
     "text": [
      "Test: Push on an empty stack\n",
      "Test: Push on a non-empty stack\n",
      "Test: Push on a capacity stack to create a new one\n",
      "Test: Pop on a one element stack to destroy it\n",
      "Test: Pop general case\n",
      "Test: Pop on no elements\n",
      "Success: test_set_of_stacks\n"
     ]
    }
   ],
   "source": [
    "# %load test_set_of_stacks.py\n",
    "from nose.tools import assert_equal\n",
    "\n",
    "\n",
    "class TestSetOfStacks(object):\n",
    "\n",
    "    def test_set_of_stacks(self):\n",
    "        print('Test: Push on an empty stack')\n",
    "        capacity = 2\n",
    "        stacks = SetOfStacks(capacity)\n",
    "        stacks.push(3)\n",
    "\n",
    "        print('Test: Push on a non-empty stack')\n",
    "        stacks.push(5)\n",
    "\n",
    "        print('Test: Push on a capacity stack to create a new one')\n",
    "        stacks.push('a')\n",
    "\n",
    "        print('Test: Pop on a one element stack to destroy it')\n",
    "        assert_equal(stacks.pop(), 'a')\n",
    "\n",
    "        print('Test: Pop general case')\n",
    "        assert_equal(stacks.pop(), 5)\n",
    "        assert_equal(stacks.pop(), 3)\n",
    "\n",
    "        print('Test: Pop on no elements')\n",
    "        assert_equal(stacks.pop(), None)\n",
    "\n",
    "        print('Success: test_set_of_stacks')\n",
    "\n",
    "\n",
    "def main():\n",
    "    test = TestSetOfStacks()\n",
    "    test.test_set_of_stacks()\n",
    "\n",
    "\n",
    "if __name__ == '__main__':\n",
    "    main()"
   ]
  },
  {
   "cell_type": "markdown",
   "metadata": {},
   "source": [
    "# Solution Notebook\n",
    "\n",
    "Review the [Solution Notebook](http://nbviewer.ipython.org/github/donnemartin/interactive-coding-challenges/blob/master/stacks_queues/set_of_stacks/set_of_stacks_solution.ipynb) for a discussion on algorithms and code solutions."
   ]
  }
 ],
 "metadata": {
  "kernelspec": {
   "display_name": "Python 2",
   "language": "python",
   "name": "python2"
  },
  "language_info": {
   "codemirror_mode": {
    "name": "ipython",
    "version": 2
   },
   "file_extension": ".py",
   "mimetype": "text/x-python",
   "name": "python",
   "nbconvert_exporter": "python",
   "pygments_lexer": "ipython2",
   "version": "2.7.10"
  }
 },
 "nbformat": 4,
 "nbformat_minor": 0
}
